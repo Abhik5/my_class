{
 "cells": [
  {
   "cell_type": "code",
   "execution_count": 1,
   "id": "4f9d2b1d-b18c-4a9f-87b6-647c90b13f52",
   "metadata": {},
   "outputs": [],
   "source": [
    "from classy import Class\n",
    "import numpy as np\n",
    "\n",
    "#Start by specifying the cosmology\n",
    "Omega_b = 0.05\n",
    "Omega_m = 0.3\n",
    "Omega_cdm = Omega_m - Omega_b\n",
    "h = 0.7 #H0/100\n",
    "A_s = 2.1e-9\n",
    "n_s = 0.96\n",
    "\n",
    "#Create a params dictionary\n",
    "#Need to specify the max wavenumber\n",
    "k_max = 10 #UNITS: 1/Mpc\n",
    "\n",
    "params = {\n",
    "             'output':'mPk',\n",
    "             'non linear':'halofit',\n",
    "             'Omega_b':Omega_b,\n",
    "             'Omega_cdm':Omega_cdm,\n",
    "             'h':h,\n",
    "             'A_s':A_s,\n",
    "             'n_s':n_s,\n",
    "             'P_k_max_1/Mpc':k_max,\n",
    "             'z_max_pk':10. #Default value is 10\n",
    "}\n",
    "\n",
    "#Initialize the cosmology andcompute everything\n",
    "cosmo = Class()\n",
    "cosmo.set(params)\n",
    "cosmo.compute()\n",
    "\n",
    "#Specify k and z\n",
    "k = np.logspace(-5, np.log10(k_max), num=1000) #Mpc^-1\n",
    "z = 1.\n",
    "\n",
    "#Call these for the nonlinear and linear matter power spectra\n",
    "Pnonlin = np.array([cosmo.pk(ki, z) for ki in k])\n",
    "Plin = np.array([cosmo.pk_lin(ki, z) for ki in k])\n",
    "\n",
    "#NOTE: You will need to convert these to h/Mpc and (Mpc/h)^3\n",
    "#to use in the toolkit. To do this you would do:\n",
    "k /= h\n",
    "Plin *= h**3\n",
    "Pnonlin *= h**3"
   ]
  },
  {
   "cell_type": "code",
   "execution_count": null,
   "id": "01d332b2-d66b-4bbd-85c9-8dee39c01303",
   "metadata": {},
   "outputs": [],
   "source": []
  }
 ],
 "metadata": {
  "kernelspec": {
   "display_name": "Python 3 (ipykernel)",
   "language": "python",
   "name": "python3"
  },
  "language_info": {
   "codemirror_mode": {
    "name": "ipython",
    "version": 3
   },
   "file_extension": ".py",
   "mimetype": "text/x-python",
   "name": "python",
   "nbconvert_exporter": "python",
   "pygments_lexer": "ipython3",
   "version": "3.10.12"
  }
 },
 "nbformat": 4,
 "nbformat_minor": 5
}
